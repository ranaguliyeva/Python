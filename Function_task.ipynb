{
 "cells": [
  {
   "cell_type": "markdown",
   "metadata": {},
   "source": [
    "1. List Functions"
   ]
  },
  {
   "cell_type": "code",
   "execution_count": 1,
   "metadata": {},
   "outputs": [
    {
     "data": {
      "text/plain": [
       "6"
      ]
     },
     "execution_count": 1,
     "metadata": {},
     "output_type": "execute_result"
    }
   ],
   "source": [
    "# a) Write a function that takes a list as input and returns the sum of all elements in the list.\n",
    "def my_list(l):\n",
    "    sum = 0\n",
    "    for i in l:\n",
    "        sum+=i\n",
    "    return sum\n",
    "l1=[1,2,3]\n",
    "my_list(l1)"
   ]
  },
  {
   "cell_type": "code",
   "execution_count": 14,
   "metadata": {},
   "outputs": [
    {
     "data": {
      "text/plain": [
       "[2, 4, 6]"
      ]
     },
     "execution_count": 14,
     "metadata": {},
     "output_type": "execute_result"
    }
   ],
   "source": [
    "# b) Create a function that receives a list of numbers and returns a new list with only the even numbers.\n",
    "def list_func(l):\n",
    "    new_list=[]\n",
    "    for i in l:\n",
    "        if i % 2 == 0:\n",
    "            new_list.append(i)\n",
    "    return new_list\n",
    "l1 = [1,2,3,4,5,6]\n",
    "list_func(l1)"
   ]
  },
  {
   "cell_type": "code",
   "execution_count": 15,
   "metadata": {},
   "outputs": [
    {
     "data": {
      "text/plain": [
       "[5, 4, 3, 2, 1]"
      ]
     },
     "execution_count": 15,
     "metadata": {},
     "output_type": "execute_result"
    }
   ],
   "source": [
    "# c) Implement a function that reverses a given list.\n",
    "def my_func(l):\n",
    "   return l[::-1]\n",
    "\n",
    "my_list = [1,2,3,4,5]\n",
    "my_func(my_list)"
   ]
  },
  {
   "cell_type": "markdown",
   "metadata": {},
   "source": [
    "2. Tuple Functions"
   ]
  },
  {
   "cell_type": "code",
   "execution_count": 5,
   "metadata": {},
   "outputs": [
    {
     "data": {
      "text/plain": [
       "120"
      ]
     },
     "execution_count": 5,
     "metadata": {},
     "output_type": "execute_result"
    }
   ],
   "source": [
    "# a) Write a function that takes a tuple as input and returns the product of all elements in the tuple.\n",
    "def func_tuple(my_tuple):\n",
    "    product = 1\n",
    "    for i in my_tuple:\n",
    "        product *= i\n",
    "    return product\n",
    "    \n",
    "t1 = (1, 2, 3, 4, 5)\n",
    "func_tuple(t1)"
   ]
  },
  {
   "cell_type": "code",
   "execution_count": 17,
   "metadata": {},
   "outputs": [
    {
     "data": {
      "text/plain": [
       "('my', 'dear', '!!!')"
      ]
     },
     "execution_count": 17,
     "metadata": {},
     "output_type": "execute_result"
    }
   ],
   "source": [
    "# b) Create a function that receives a tuple of strings and returns a new tuple with only the strings of length less than 5.\n",
    "def func_tuple(str_tuple):\n",
    "    temporary_list = []\n",
    "    for i in str_tuple:\n",
    "        if len(i)<5:\n",
    "            temporary_list.append(i)\n",
    "    return tuple(temporary_list)\n",
    "\n",
    "tuple1 = ('Hello', 'my', 'dear', 'friends', '!!!')\n",
    "func_tuple(tuple1)"
   ]
  },
  {
   "cell_type": "code",
   "execution_count": 18,
   "metadata": {},
   "outputs": [
    {
     "data": {
      "text/plain": [
       "('Hello', 'World', 0, 1, 2, 3, 4)"
      ]
     },
     "execution_count": 18,
     "metadata": {},
     "output_type": "execute_result"
    }
   ],
   "source": [
    "# c) Implement a function that concatenates two tuples and returns the result.\n",
    "def concat_tuple(t1, t2):\n",
    "    return t1 + t2\n",
    "\n",
    "tuple1 = ('Hello', 'World')\n",
    "tuple2 = (0, 1, 2, 3, 4)\n",
    "concat_tuple(tuple1, tuple2)"
   ]
  },
  {
   "cell_type": "markdown",
   "metadata": {},
   "source": [
    "3. Dictionary Functions"
   ]
  },
  {
   "cell_type": "code",
   "execution_count": 24,
   "metadata": {},
   "outputs": [
    {
     "data": {
      "text/plain": [
       "['Names', 'Ages']"
      ]
     },
     "execution_count": 24,
     "metadata": {},
     "output_type": "execute_result"
    }
   ],
   "source": [
    "# a) Write a function that takes a dictionary as input and returns a list of its keys.\n",
    "def my_dict(d):\n",
    "    return list(d.keys())\n",
    "\n",
    "dict1 = {'Names': ('John', 'Alice'),\n",
    "         'Ages': (20, 30)}\n",
    "\n",
    "my_dict(dict1)"
   ]
  },
  {
   "cell_type": "code",
   "execution_count": 35,
   "metadata": {},
   "outputs": [
    {
     "data": {
      "text/plain": [
       "['Capitals']"
      ]
     },
     "execution_count": 35,
     "metadata": {},
     "output_type": "execute_result"
    }
   ],
   "source": [
    "# b) Create a function that receives a dictionary and a value, and returns a list of keys that match that value. \n",
    "def dict_func(d, target_value):\n",
    "    matching_keys = []\n",
    "    for key, value in d.items():\n",
    "        if target_value in value:\n",
    "            matching_keys.append(key)\n",
    "    return matching_keys\n",
    "\n",
    "my_dict = {'Countries': ('Azerbaijan', 'Turkey'),\n",
    "           'Capitals': ('Baku', 'Istanbul')}\n",
    "dict_func(my_dict, 'Istanbul')"
   ]
  },
  {
   "cell_type": "code",
   "execution_count": 48,
   "metadata": {},
   "outputs": [
    {
     "data": {
      "text/plain": [
       "{'c': 3, 'd': 4, 'a': 1, 'b': 2}"
      ]
     },
     "execution_count": 48,
     "metadata": {},
     "output_type": "execute_result"
    }
   ],
   "source": [
    "# c) Implement a function that combines two dictionaries into one and returns the result.\n",
    "def combine(d1, d2):\n",
    "    d2.update(d1)\n",
    "    return d2\n",
    "\n",
    "dict1 = {'a':1, 'b':2}\n",
    "dict2 = {'c':3, 'd':4}\n",
    "combine(dict1, dict2)"
   ]
  },
  {
   "cell_type": "markdown",
   "metadata": {},
   "source": [
    "4. If-Else Functions"
   ]
  },
  {
   "cell_type": "code",
   "execution_count": 66,
   "metadata": {},
   "outputs": [
    {
     "name": "stdout",
     "output_type": "stream",
     "text": [
      "Odd\n",
      "Even\n"
     ]
    }
   ],
   "source": [
    "# a) Write a function that takes an integer as input and returns \"Even\" if it's even, and \"Odd\" otherwise.\n",
    "def my_func(my_int):\n",
    "    if my_int % 2 == 0:\n",
    "        print('Even')\n",
    "    else:\n",
    "        print('Odd')\n",
    "\n",
    "my_func(5)\n",
    "my_func(6)"
   ]
  },
  {
   "cell_type": "code",
   "execution_count": 65,
   "metadata": {},
   "outputs": [
    {
     "name": "stdout",
     "output_type": "stream",
     "text": [
      "Not palindrom\n"
     ]
    }
   ],
   "source": [
    "# b) Create a function that checks if a given string is a palindrome or not.\n",
    "def palindrom_func(my_str):\n",
    "    if my_str.lower() == my_str[::-1]:\n",
    "        print('Palindrom')\n",
    "    else:\n",
    "        print('Not palindrom')\n",
    "\n",
    "str1 = 'Madam'\n",
    "palindrom_func(str1)\n"
   ]
  },
  {
   "cell_type": "markdown",
   "metadata": {},
   "source": [
    "5. While Loop Functions"
   ]
  },
  {
   "cell_type": "code",
   "execution_count": 70,
   "metadata": {},
   "outputs": [
    {
     "name": "stdout",
     "output_type": "stream",
     "text": [
      "1\n",
      "2\n",
      "3\n",
      "4\n",
      "5\n",
      "6\n",
      "7\n",
      "8\n",
      "9\n",
      "10\n"
     ]
    }
   ],
   "source": [
    "# a) Write a function that takes an integer as input and prints all numbers from 1 to that integer using a while loop.\n",
    "def my_func(start_num, stop_num):\n",
    "    while start_num <= stop_num:\n",
    "        print(start_num)\n",
    "        start_num+=1\n",
    "my_func(1, 10)\n",
    "        \n"
   ]
  },
  {
   "cell_type": "code",
   "execution_count": 75,
   "metadata": {},
   "outputs": [
    {
     "data": {
      "text/plain": [
       "6"
      ]
     },
     "execution_count": 75,
     "metadata": {},
     "output_type": "execute_result"
    }
   ],
   "source": [
    "# b) Create a function that calculates the factorial of a given positive integer using a while loop. \n",
    "def factorial_func(num):\n",
    "    if num == 0 or num == 1:\n",
    "        print('Factorial is 1')\n",
    "    elif num < 0:\n",
    "        print('Negative numbers do not have factorial')\n",
    "    factorial = 1\n",
    "    while num > 1:\n",
    "        factorial *= num\n",
    "        num-=1\n",
    "    return factorial\n",
    "\n",
    "factorial_func(3)"
   ]
  },
  {
   "cell_type": "markdown",
   "metadata": {},
   "source": [
    "6. For Loop Functions:"
   ]
  },
  {
   "cell_type": "code",
   "execution_count": 80,
   "metadata": {},
   "outputs": [
    {
     "name": "stdout",
     "output_type": "stream",
     "text": [
      "It\n",
      "is\n",
      "a\n",
      "string\n"
     ]
    }
   ],
   "source": [
    "# a) Implement a function that takes a list of strings and prints each string on a new line using a for loop.\n",
    "def my_func(list_str):\n",
    "    for i in list_str:\n",
    "        print(i)\n",
    "\n",
    "sl = ['It', 'is', 'a', 'string']\n",
    "my_func(sl)\n",
    "\n"
   ]
  },
  {
   "cell_type": "code",
   "execution_count": 84,
   "metadata": {},
   "outputs": [
    {
     "data": {
      "text/plain": [
       "14"
      ]
     },
     "execution_count": 84,
     "metadata": {},
     "output_type": "execute_result"
    }
   ],
   "source": [
    "# b) Create a function that calculates the sum of squares of all numbers in a given list using a for loop.\n",
    "def calculate(list):\n",
    "    sum = 0\n",
    "    for i in list:\n",
    "        sum += i ** 2\n",
    "    return sum\n",
    "\n",
    "list1 = [1, 2, 3]\n",
    "calculate(list1)"
   ]
  },
  {
   "cell_type": "markdown",
   "metadata": {},
   "source": [
    "7. Filter Function"
   ]
  },
  {
   "cell_type": "code",
   "execution_count": 93,
   "metadata": {},
   "outputs": [
    {
     "name": "stdout",
     "output_type": "stream",
     "text": [
      "[10, 4, 28]\n"
     ]
    }
   ],
   "source": [
    "# Solution 2\n",
    "l1 = [-1, -5, 10, 0, 4, 28]\n",
    "x = filter(lambda x: x > 0, l1)\n",
    "print(list(x))"
   ]
  },
  {
   "cell_type": "markdown",
   "metadata": {},
   "source": [
    "8. Reduce Function"
   ]
  },
  {
   "cell_type": "code",
   "execution_count": 99,
   "metadata": {},
   "outputs": [
    {
     "data": {
      "text/plain": [
       "24"
      ]
     },
     "execution_count": 99,
     "metadata": {},
     "output_type": "execute_result"
    }
   ],
   "source": [
    "# a) Implement a function that takes a list of numbers and returns the product of all elements using the reduce function.\n",
    "from functools import reduce\n",
    "\n",
    "def my_func(list):\n",
    "    return reduce(lambda x, y: x*y, list)\n",
    "\n",
    "l1 = [1,2,3,4]\n",
    "my_func(l1)"
   ]
  },
  {
   "cell_type": "markdown",
   "metadata": {},
   "source": [
    "9. Map Function"
   ]
  },
  {
   "cell_type": "code",
   "execution_count": 110,
   "metadata": {},
   "outputs": [
    {
     "data": {
      "text/plain": [
       "[50.0, 68.0, 86.0, 104.0, 32.0, 14.0]"
      ]
     },
     "execution_count": 110,
     "metadata": {},
     "output_type": "execute_result"
    }
   ],
   "source": [
    "# a) Write a function that takes a list of temperatures in Celsius and returns a new list with corresponding temperatures in Fahrenheit using the map function.\n",
    "#celsius * 1.8 + 32\n",
    "def func_temperature(c):\n",
    "    f = c * 1.8 + 32\n",
    "    return f\n",
    "\n",
    "l1 = [10, 20, 30, 40, 0, -10]\n",
    "y = list(map(func_temperature, l1))\n",
    "y"
   ]
  },
  {
   "cell_type": "markdown",
   "metadata": {},
   "source": [
    "10. Zip Function"
   ]
  },
  {
   "cell_type": "code",
   "execution_count": 114,
   "metadata": {},
   "outputs": [
    {
     "data": {
      "text/plain": [
       "[(1, 'a'), (2, 'b'), (3, 'c')]"
      ]
     },
     "execution_count": 114,
     "metadata": {},
     "output_type": "execute_result"
    }
   ],
   "source": [
    "# a) Create a function that takes two lists of the same length and returns a new list of tuples, where each tuple contains elements from both lists paired together using the zip function.\n",
    "def my_func(l1, l2):\n",
    "    return list(zip(l1, l2))\n",
    "\n",
    "l1 = [1, 2, 3] \n",
    "l2 = ['a', 'b', 'c']\n",
    "my_func(l1, l2)"
   ]
  }
 ],
 "metadata": {
  "kernelspec": {
   "display_name": "Python 3",
   "language": "python",
   "name": "python3"
  },
  "language_info": {
   "codemirror_mode": {
    "name": "ipython",
    "version": 3
   },
   "file_extension": ".py",
   "mimetype": "text/x-python",
   "name": "python",
   "nbconvert_exporter": "python",
   "pygments_lexer": "ipython3",
   "version": "3.9.13"
  },
  "orig_nbformat": 4
 },
 "nbformat": 4,
 "nbformat_minor": 2
}
